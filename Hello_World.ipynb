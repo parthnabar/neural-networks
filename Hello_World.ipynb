{
  "nbformat": 4,
  "nbformat_minor": 0,
  "metadata": {
    "colab": {
      "provenance": [],
      "toc_visible": true,
      "mount_file_id": "1BuUWxVjUH66Wa49CZTlh_Hh-9fmX0pqI",
      "authorship_tag": "ABX9TyON8aXUTJ6OlOpPrp4WiT84",
      "include_colab_link": true
    },
    "kernelspec": {
      "name": "python3",
      "display_name": "Python 3"
    },
    "language_info": {
      "name": "python"
    }
  },
  "cells": [
    {
      "cell_type": "markdown",
      "metadata": {
        "id": "view-in-github",
        "colab_type": "text"
      },
      "source": [
        "<a href=\"https://colab.research.google.com/github/parthnabar/neural-networks/blob/main/Hello_World.ipynb\" target=\"_parent\"><img src=\"https://colab.research.google.com/assets/colab-badge.svg\" alt=\"Open In Colab\"/></a>"
      ]
    },
    {
      "cell_type": "code",
      "execution_count": 1,
      "metadata": {
        "colab": {
          "base_uri": "https://localhost:8080/",
          "height": 216
        },
        "id": "1rjdT-DcwfUz",
        "outputId": "17e039c5-0bdf-409d-d2a4-87734e0b526f"
      },
      "outputs": [
        {
          "output_type": "error",
          "ename": "FileNotFoundError",
          "evalue": "[Errno 2] No such file or directory: './data'",
          "traceback": [
            "\u001b[0;31m---------------------------------------------------------------------------\u001b[0m",
            "\u001b[0;31mFileNotFoundError\u001b[0m                         Traceback (most recent call last)",
            "\u001b[0;32m<ipython-input-1-e585aa2367f2>\u001b[0m in \u001b[0;36m<cell line: 5>\u001b[0;34m()\u001b[0m\n\u001b[1;32m      3\u001b[0m \u001b[0;31m#!pip install torch torchvision matplotlib\u001b[0m\u001b[0;34m\u001b[0m\u001b[0;34m\u001b[0m\u001b[0m\n\u001b[1;32m      4\u001b[0m \u001b[0;32mimport\u001b[0m \u001b[0mos\u001b[0m\u001b[0;34m\u001b[0m\u001b[0;34m\u001b[0m\u001b[0m\n\u001b[0;32m----> 5\u001b[0;31m \u001b[0mprint\u001b[0m\u001b[0;34m(\u001b[0m\u001b[0mos\u001b[0m\u001b[0;34m.\u001b[0m\u001b[0mlistdir\u001b[0m\u001b[0;34m(\u001b[0m\u001b[0;34m'./data'\u001b[0m\u001b[0;34m)\u001b[0m\u001b[0;34m)\u001b[0m\u001b[0;34m\u001b[0m\u001b[0;34m\u001b[0m\u001b[0m\n\u001b[0m",
            "\u001b[0;31mFileNotFoundError\u001b[0m: [Errno 2] No such file or directory: './data'"
          ]
        }
      ],
      "source": [
        "# prompt: pip install torch torchvision matplotlib\n",
        "\n",
        "#!pip install torch torchvision matplotlib\n",
        "import os\n",
        "print(os.listdir('./data'))\n"
      ]
    },
    {
      "cell_type": "code",
      "source": [
        "from google.colab import drive\n",
        "drive.mount('/content/drive')"
      ],
      "metadata": {
        "id": "NCOmCZfUKuOZ"
      },
      "execution_count": null,
      "outputs": []
    },
    {
      "cell_type": "code",
      "source": [],
      "metadata": {
        "id": "-5SbSdXIrgiV"
      },
      "execution_count": null,
      "outputs": []
    },
    {
      "cell_type": "code",
      "source": [
        "import torch\n",
        "import torch.nn as nn\n",
        "import torch.optim as optim\n",
        "from torchvision import datasets, transforms\n",
        "from torch.utils.data import DataLoader\n",
        "import matplotlib.pyplot as plt\n",
        "\n",
        "# 1. Device Configuration\n",
        "device = torch.device(\"cuda\" if torch.cuda.is_available() else \"cpu\")\n",
        "print(f\"Using device: {device}\")\n",
        "\n"
      ],
      "metadata": {
        "colab": {
          "base_uri": "https://localhost:8080/"
        },
        "id": "8TsnV0O1IS14",
        "outputId": "282554b6-6de7-4c34-f4d4-1f9540cbcd82"
      },
      "execution_count": 2,
      "outputs": [
        {
          "output_type": "stream",
          "name": "stdout",
          "text": [
            "Using device: cpu\n"
          ]
        }
      ]
    },
    {
      "cell_type": "code",
      "source": [
        "# 2. Load MNIST Dataset\n",
        "transform = transforms.Compose([transforms.ToTensor(), transforms.Normalize((0.5,), (0.5,))])\n",
        "train_dataset = datasets.MNIST(root='./data', train=True, transform=transform, download=True)\n",
        "test_dataset = datasets.MNIST(root='./data', train=False, transform=transform, download=True)\n",
        "\n"
      ],
      "metadata": {
        "colab": {
          "base_uri": "https://localhost:8080/"
        },
        "id": "yU4XstbprwlT",
        "outputId": "7659e499-2e78-4d9f-baee-d937f6c97f82"
      },
      "execution_count": 3,
      "outputs": [
        {
          "output_type": "stream",
          "name": "stdout",
          "text": [
            "Downloading http://yann.lecun.com/exdb/mnist/train-images-idx3-ubyte.gz\n",
            "Failed to download (trying next):\n",
            "HTTP Error 403: Forbidden\n",
            "\n",
            "Downloading https://ossci-datasets.s3.amazonaws.com/mnist/train-images-idx3-ubyte.gz\n",
            "Downloading https://ossci-datasets.s3.amazonaws.com/mnist/train-images-idx3-ubyte.gz to ./data/MNIST/raw/train-images-idx3-ubyte.gz\n"
          ]
        },
        {
          "output_type": "stream",
          "name": "stderr",
          "text": [
            "100%|██████████| 9.91M/9.91M [00:00<00:00, 39.8MB/s]\n"
          ]
        },
        {
          "output_type": "stream",
          "name": "stdout",
          "text": [
            "Extracting ./data/MNIST/raw/train-images-idx3-ubyte.gz to ./data/MNIST/raw\n",
            "\n",
            "Downloading http://yann.lecun.com/exdb/mnist/train-labels-idx1-ubyte.gz\n",
            "Failed to download (trying next):\n",
            "HTTP Error 403: Forbidden\n",
            "\n",
            "Downloading https://ossci-datasets.s3.amazonaws.com/mnist/train-labels-idx1-ubyte.gz\n",
            "Downloading https://ossci-datasets.s3.amazonaws.com/mnist/train-labels-idx1-ubyte.gz to ./data/MNIST/raw/train-labels-idx1-ubyte.gz\n"
          ]
        },
        {
          "output_type": "stream",
          "name": "stderr",
          "text": [
            "100%|██████████| 28.9k/28.9k [00:00<00:00, 1.28MB/s]\n"
          ]
        },
        {
          "output_type": "stream",
          "name": "stdout",
          "text": [
            "Extracting ./data/MNIST/raw/train-labels-idx1-ubyte.gz to ./data/MNIST/raw\n",
            "\n",
            "Downloading http://yann.lecun.com/exdb/mnist/t10k-images-idx3-ubyte.gz\n",
            "Failed to download (trying next):\n",
            "HTTP Error 403: Forbidden\n",
            "\n",
            "Downloading https://ossci-datasets.s3.amazonaws.com/mnist/t10k-images-idx3-ubyte.gz\n",
            "Downloading https://ossci-datasets.s3.amazonaws.com/mnist/t10k-images-idx3-ubyte.gz to ./data/MNIST/raw/t10k-images-idx3-ubyte.gz\n"
          ]
        },
        {
          "output_type": "stream",
          "name": "stderr",
          "text": [
            "100%|██████████| 1.65M/1.65M [00:00<00:00, 10.7MB/s]\n"
          ]
        },
        {
          "output_type": "stream",
          "name": "stdout",
          "text": [
            "Extracting ./data/MNIST/raw/t10k-images-idx3-ubyte.gz to ./data/MNIST/raw\n",
            "\n",
            "Downloading http://yann.lecun.com/exdb/mnist/t10k-labels-idx1-ubyte.gz\n",
            "Failed to download (trying next):\n",
            "HTTP Error 403: Forbidden\n",
            "\n",
            "Downloading https://ossci-datasets.s3.amazonaws.com/mnist/t10k-labels-idx1-ubyte.gz\n",
            "Downloading https://ossci-datasets.s3.amazonaws.com/mnist/t10k-labels-idx1-ubyte.gz to ./data/MNIST/raw/t10k-labels-idx1-ubyte.gz\n"
          ]
        },
        {
          "output_type": "stream",
          "name": "stderr",
          "text": [
            "100%|██████████| 4.54k/4.54k [00:00<00:00, 5.88MB/s]"
          ]
        },
        {
          "output_type": "stream",
          "name": "stdout",
          "text": [
            "Extracting ./data/MNIST/raw/t10k-labels-idx1-ubyte.gz to ./data/MNIST/raw\n",
            "\n"
          ]
        },
        {
          "output_type": "stream",
          "name": "stderr",
          "text": [
            "\n"
          ]
        }
      ]
    },
    {
      "cell_type": "code",
      "source": [
        "train_loader = DataLoader(train_dataset, batch_size=32, shuffle=True)\n",
        "test_loader = DataLoader(test_dataset, batch_size=32, shuffle=False)"
      ],
      "metadata": {
        "id": "_xbpcpBNt9Mz"
      },
      "execution_count": 13,
      "outputs": []
    },
    {
      "cell_type": "code",
      "source": [
        "#3. Visualize and Represent an Image as a Tensor\n",
        "# Find an example image of the digit 5\n",
        "for img, label in train_dataset:\n",
        "    if label == 5:\n",
        "        number_five_image = img\n",
        "        break\n"
      ],
      "metadata": {
        "id": "H30yHo2vr9cr"
      },
      "execution_count": 14,
      "outputs": []
    },
    {
      "cell_type": "code",
      "source": [
        "# Display the image and tensor representation\n",
        "plt.imshow(number_five_image.squeeze(), cmap='gray')\n",
        "plt.title(\"Digit: 5\")\n",
        "plt.axis(\"off\")\n",
        "plt.show()\n",
        "\n",
        "print(\"Tensor Representation of Digit 5:\")\n",
        "print(number_five_image.squeeze().numpy())"
      ],
      "metadata": {
        "colab": {
          "base_uri": "https://localhost:8080/",
          "height": 1000
        },
        "id": "J20Ja_WFsVwe",
        "outputId": "3c4a685e-de9e-4a0c-f5db-8b8a0167ca27"
      },
      "execution_count": 15,
      "outputs": [
        {
          "output_type": "display_data",
          "data": {
            "text/plain": [
              "<Figure size 640x480 with 1 Axes>"
            ],
            "image/png": "[encoded data removed]"
          },
          "metadata": {}
        },
        {
          "output_type": "stream",
          "name": "stdout",
          "text": [
            "Tensor Representation of Digit 5:\n",
            "[[-1.         -1.         -1.         -1.         -1.         -1.\n",
            "  -1.         -1.         -1.         -1.         -1.         -1.\n",
            "  -1.         -1.         -1.         -1.         -1.         -1.\n",
            "  -1.         -1.         -1.         -1.         -1.         -1.\n",
            "  -1.         -1.         -1.         -1.        ]\n",
            " [-1.         -1.         -1.         -1.         -1.         -1.\n",
            "  -1.         -1.         -1.         -1.         -1.         -1.\n",
            "  -1.         -1.         -1.         -1.         -1.         -1.\n",
            "  -1.         -1.         -1.         -1.         -1.         -1.\n",
            "  -1.         -1.         -1.         -1.        ]\n",
            " [-1.         -1.         -1.         -1.         -1.         -1.\n",
            "  -1.         -1.         -1.         -1.         -1.         -1.\n",
            "  -1.         -1.         -1.         -1.         -1.         -1.\n",
            "  -1.         -1.         -1.         -1.         -1.         -1.\n",
            "  -1.         -1.         -1.         -1.        ]\n",
            " [-1.         -1.         -1.         -1.         -1.         -1.\n",
            "  -1.         -1.         -1.         -1.         -1.         -1.\n",
            "  -1.         -1.         -1.         -1.         -1.         -1.\n",
            "  -1.         -1.         -1.         -1.         -1.         -1.\n",
            "  -1.         -1.         -1.         -1.        ]\n",
            " [-1.         -1.         -1.         -1.         -1.         -1.\n",
            "  -1.         -1.         -1.         -1.         -1.         -1.\n",
            "  -1.         -1.         -1.         -1.         -1.         -1.\n",
            "  -1.         -1.         -1.         -1.         -1.         -1.\n",
            "  -1.         -1.         -1.         -1.        ]\n",
            " [-1.         -1.         -1.         -1.         -1.         -1.\n",
            "  -1.         -1.         -1.         -1.         -1.         -1.\n",
            "  -0.9764706  -0.85882354 -0.85882354 -0.85882354 -0.01176471  0.06666672\n",
            "   0.37254906 -0.79607844  0.30196083  1.          0.9372549  -0.00392157\n",
            "  -1.         -1.         -1.         -1.        ]\n",
            " [-1.         -1.         -1.         -1.         -1.         -1.\n",
            "  -1.         -1.         -0.7647059  -0.7176471  -0.26274508  0.20784318\n",
            "   0.33333337  0.9843137   0.9843137   0.9843137   0.9843137   0.9843137\n",
            "   0.7647059   0.34901965  0.9843137   0.8980392   0.5294118  -0.4980392\n",
            "  -1.         -1.         -1.         -1.        ]\n",
            " [-1.         -1.         -1.         -1.         -1.         -1.\n",
            "  -1.         -0.6156863   0.8666667   0.9843137   0.9843137   0.9843137\n",
            "   0.9843137   0.9843137   0.9843137   0.9843137   0.9843137   0.96862745\n",
            "  -0.27058822 -0.35686272 -0.35686272 -0.56078434 -0.69411767 -1.\n",
            "  -1.         -1.         -1.         -1.        ]\n",
            " [-1.         -1.         -1.         -1.         -1.         -1.\n",
            "  -1.         -0.85882354  0.7176471   0.9843137   0.9843137   0.9843137\n",
            "   0.9843137   0.9843137   0.5529412   0.427451    0.9372549   0.8901961\n",
            "  -1.         -1.         -1.         -1.         -1.         -1.\n",
            "  -1.         -1.         -1.         -1.        ]\n",
            " [-1.         -1.         -1.         -1.         -1.         -1.\n",
            "  -1.         -1.         -0.372549    0.22352946 -0.1607843   0.9843137\n",
            "   0.9843137   0.60784316 -0.9137255  -1.         -0.6627451   0.20784318\n",
            "  -1.         -1.         -1.         -1.         -1.         -1.\n",
            "  -1.         -1.         -1.         -1.        ]\n",
            " [-1.         -1.         -1.         -1.         -1.         -1.\n",
            "  -1.         -1.         -1.         -0.8901961  -0.99215686  0.20784318\n",
            "   0.9843137  -0.29411763 -1.         -1.         -1.         -1.\n",
            "  -1.         -1.         -1.         -1.         -1.         -1.\n",
            "  -1.         -1.         -1.         -1.        ]\n",
            " [-1.         -1.         -1.         -1.         -1.         -1.\n",
            "  -1.         -1.         -1.         -1.         -1.          0.09019613\n",
            "   0.9843137   0.4901961  -0.9843137  -1.         -1.         -1.\n",
            "  -1.         -1.         -1.         -1.         -1.         -1.\n",
            "  -1.         -1.         -1.         -1.        ]\n",
            " [-1.         -1.         -1.         -1.         -1.         -1.\n",
            "  -1.         -1.         -1.         -1.         -1.         -0.9137255\n",
            "   0.4901961   0.9843137  -0.45098037 -1.         -1.         -1.\n",
            "  -1.         -1.         -1.         -1.         -1.         -1.\n",
            "  -1.         -1.         -1.         -1.        ]\n",
            " [-1.         -1.         -1.         -1.         -1.         -1.\n",
            "  -1.         -1.         -1.         -1.         -1.         -1.\n",
            "  -0.7254902   0.8901961   0.7647059   0.254902   -0.15294117 -0.99215686\n",
            "  -1.         -1.         -1.         -1.         -1.         -1.\n",
            "  -1.         -1.         -1.         -1.        ]\n",
            " [-1.         -1.         -1.         -1.         -1.         -1.\n",
            "  -1.         -1.         -1.         -1.         -1.         -1.\n",
            "  -1.         -0.36470586  0.88235295  0.9843137   0.9843137  -0.06666666\n",
            "  -0.8039216  -1.         -1.         -1.         -1.         -1.\n",
            "  -1.         -1.         -1.         -1.        ]\n",
            " [-1.         -1.         -1.         -1.         -1.         -1.\n",
            "  -1.         -1.         -1.         -1.         -1.         -1.\n",
            "  -1.         -1.         -0.64705884  0.45882356  0.9843137   0.9843137\n",
            "   0.17647064 -0.7882353  -1.         -1.         -1.         -1.\n",
            "  -1.         -1.         -1.         -1.        ]\n",
            " [-1.         -1.         -1.         -1.         -1.         -1.\n",
            "  -1.         -1.         -1.         -1.         -1.         -1.\n",
            "  -1.         -1.         -1.         -0.8745098  -0.27058822  0.9764706\n",
            "   0.9843137   0.4666667  -1.         -1.         -1.         -1.\n",
            "  -1.         -1.         -1.         -1.        ]\n",
            " [-1.         -1.         -1.         -1.         -1.         -1.\n",
            "  -1.         -1.         -1.         -1.         -1.         -1.\n",
            "  -1.         -1.         -1.         -1.         -1.          0.9529412\n",
            "   0.9843137   0.9529412  -0.4980392  -1.         -1.         -1.\n",
            "  -1.         -1.         -1.         -1.        ]\n",
            " [-1.         -1.         -1.         -1.         -1.         -1.\n",
            "  -1.         -1.         -1.         -1.         -1.         -1.\n",
            "  -1.         -1.         -0.6392157   0.0196079   0.43529415  0.9843137\n",
            "   0.9843137   0.62352943 -0.9843137  -1.         -1.         -1.\n",
            "  -1.         -1.         -1.         -1.        ]\n",
            " [-1.         -1.         -1.         -1.         -1.         -1.\n",
            "  -1.         -1.         -1.         -1.         -1.         -1.\n",
            "  -0.69411767  0.16078436  0.79607844  0.9843137   0.9843137   0.9843137\n",
            "   0.9607843   0.427451   -1.         -1.         -1.         -1.\n",
            "  -1.         -1.         -1.         -1.        ]\n",
            " [-1.         -1.         -1.         -1.         -1.         -1.\n",
            "  -1.         -1.         -1.         -1.         -0.8117647  -0.10588235\n",
            "   0.73333335  0.9843137   0.9843137   0.9843137   0.9843137   0.5764706\n",
            "  -0.38823527 -1.         -1.         -1.         -1.         -1.\n",
            "  -1.         -1.         -1.         -1.        ]\n",
            " [-1.         -1.         -1.         -1.         -1.         -1.\n",
            "  -1.         -1.         -0.81960785 -0.4823529   0.67058825  0.9843137\n",
            "   0.9843137   0.9843137   0.9843137   0.5529412  -0.36470586 -0.9843137\n",
            "  -1.         -1.         -1.         -1.         -1.         -1.\n",
            "  -1.         -1.         -1.         -1.        ]\n",
            " [-1.         -1.         -1.         -1.         -1.         -1.\n",
            "  -0.85882354  0.3411765   0.7176471   0.9843137   0.9843137   0.9843137\n",
            "   0.9843137   0.5294118  -0.372549   -0.92941177 -1.         -1.\n",
            "  -1.         -1.         -1.         -1.         -1.         -1.\n",
            "  -1.         -1.         -1.         -1.        ]\n",
            " [-1.         -1.         -1.         -1.         -0.5686275   0.34901965\n",
            "   0.77254903  0.9843137   0.9843137   0.9843137   0.9843137   0.9137255\n",
            "   0.04313731 -0.9137255  -1.         -1.         -1.         -1.\n",
            "  -1.         -1.         -1.         -1.         -1.         -1.\n",
            "  -1.         -1.         -1.         -1.        ]\n",
            " [-1.         -1.         -1.         -1.          0.06666672  0.9843137\n",
            "   0.9843137   0.9843137   0.6627451   0.05882359  0.03529418 -0.8745098\n",
            "  -1.         -1.         -1.         -1.         -1.         -1.\n",
            "  -1.         -1.         -1.         -1.         -1.         -1.\n",
            "  -1.         -1.         -1.         -1.        ]\n",
            " [-1.         -1.         -1.         -1.         -1.         -1.\n",
            "  -1.         -1.         -1.         -1.         -1.         -1.\n",
            "  -1.         -1.         -1.         -1.         -1.         -1.\n",
            "  -1.         -1.         -1.         -1.         -1.         -1.\n",
            "  -1.         -1.         -1.         -1.        ]\n",
            " [-1.         -1.         -1.         -1.         -1.         -1.\n",
            "  -1.         -1.         -1.         -1.         -1.         -1.\n",
            "  -1.         -1.         -1.         -1.         -1.         -1.\n",
            "  -1.         -1.         -1.         -1.         -1.         -1.\n",
            "  -1.         -1.         -1.         -1.        ]\n",
            " [-1.         -1.         -1.         -1.         -1.         -1.\n",
            "  -1.         -1.         -1.         -1.         -1.         -1.\n",
            "  -1.         -1.         -1.         -1.         -1.         -1.\n",
            "  -1.         -1.         -1.         -1.         -1.         -1.\n",
            "  -1.         -1.         -1.         -1.        ]]\n"
          ]
        }
      ]
    },
    {
      "cell_type": "code",
      "source": [
        "# 4. Define the Neural Network\n",
        "class NeuralNet(nn.Module):\n",
        "    def __init__(self):\n",
        "        super(NeuralNet, self).__init__()\n",
        "        self.flatten = nn.Flatten()\n",
        "        self.fc1 = nn.Linear(28 * 28, 128)\n",
        "        self.fc2 = nn.Linear(128, 10)\n",
        "\n",
        "    def forward(self, x):\n",
        "        x = self.flatten(x)\n",
        "        x = torch.relu(self.fc1(x))\n",
        "        x = self.fc2(x)\n",
        "        return x\n",
        "\n",
        "model = NeuralNet().to(device)"
      ],
      "metadata": {
        "id": "KJaJt0PNtFOx"
      },
      "execution_count": 16,
      "outputs": []
    },
    {
      "cell_type": "code",
      "source": [
        "# 5. Loss and Optimizer\n",
        "criterion = nn.CrossEntropyLoss()\n",
        "optimizer = optim.Adam(model.parameters(), lr=0.001)"
      ],
      "metadata": {
        "id": "U57JZgT13Ycl"
      },
      "execution_count": 17,
      "outputs": []
    },
    {
      "cell_type": "code",
      "source": [
        "# 6. Train the Model\n",
        "num_epochs = 5\n",
        "for epoch in range(num_epochs):\n",
        "    model.train()\n",
        "    running_loss = 0.0\n",
        "    for images, labels in train_loader:\n",
        "        images, labels = images.to(device), labels.to(device)\n",
        "        outputs = model(images)\n",
        "        loss = criterion(outputs, labels)\n",
        "        optimizer.zero_grad()\n",
        "        loss.backward()\n",
        "        optimizer.step()\n",
        "        running_loss += loss.item()\n",
        "    print(f\"Epoch [{epoch+1}/{num_epochs}], Loss: {running_loss/len(train_loader):.4f}\")\n",
        "\n"
      ],
      "metadata": {
        "colab": {
          "base_uri": "https://localhost:8080/"
        },
        "id": "3ERcBAeb3iCm",
        "outputId": "abb1202b-e618-475c-b15c-75b5dd7a9aba"
      },
      "execution_count": 18,
      "outputs": [
        {
          "output_type": "stream",
          "name": "stdout",
          "text": [
            "Epoch [1/5], Loss: 0.3377\n",
            "Epoch [2/5], Loss: 0.1662\n",
            "Epoch [3/5], Loss: 0.1258\n",
            "Epoch [4/5], Loss: 0.1051\n",
            "Epoch [5/5], Loss: 0.0911\n"
          ]
        }
      ]
    },
    {
      "cell_type": "code",
      "source": [
        "# 7. Evaluate the Model\n",
        "model.eval()\n",
        "correct = 0\n",
        "total = 0\n",
        "with torch.no_grad():\n",
        "    for images, labels in test_loader:\n",
        "        images, labels = images.to(device), labels.to(device)\n",
        "        outputs = model(images)\n",
        "        _, predicted = torch.max(outputs, 1)\n",
        "        total += labels.size(0)\n",
        "        correct += (predicted == labels).sum().item()\n",
        "\n",
        "print(f\"Test Accuracy: {100 * correct / total:.2f}%\")"
      ],
      "metadata": {
        "colab": {
          "base_uri": "https://localhost:8080/"
        },
        "id": "43vooKs97kfd",
        "outputId": "7e9a5b17-a85a-4fd1-e0f7-ef89eab45aa5"
      },
      "execution_count": 19,
      "outputs": [
        {
          "output_type": "stream",
          "name": "stdout",
          "text": [
            "Test Accuracy: 97.15%\n"
          ]
        }
      ]
    },
    {
      "cell_type": "code",
      "source": [
        "!git config --global user.name \"nabster1006\"\n",
        "!git config --global user.email \"parthnabar@gmail.com\""
      ],
      "metadata": {
        "id": "j_ZOheCV9_ou"
      },
      "execution_count": 21,
      "outputs": []
    },
    {
      "cell_type": "code",
      "source": [
        "!pwd"
      ],
      "metadata": {
        "colab": {
          "base_uri": "https://localhost:8080/"
        },
        "id": "inoehbOZJpQv",
        "outputId": "cc47779c-cebc-405b-cf6c-3e22be29b961"
      },
      "execution_count": 25,
      "outputs": [
        {
          "output_type": "stream",
          "name": "stdout",
          "text": [
            "/content\n"
          ]
        }
      ]
    },
    {
      "cell_type": "code",
      "source": [],
      "metadata": {
        "id": "Z_p-LQeAKDkn"
      },
      "execution_count": null,
      "outputs": []
    }
  ]
}